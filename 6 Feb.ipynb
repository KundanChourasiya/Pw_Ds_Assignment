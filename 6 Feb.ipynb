{
 "cells": [
  {
   "cell_type": "markdown",
   "id": "b9b3fa30-746c-4fca-b626-0e4d894b8bd1",
   "metadata": {},
   "source": [
    "# 6 Feb Assingnment"
   ]
  },
  {
   "cell_type": "markdown",
   "id": "12e209a1-4680-4c94-a931-770bd22cf524",
   "metadata": {},
   "source": [
    "Q1. Create a function which will take a list as an argument and return the product of all the numbers\n",
    "after creating a flat list.\n",
    "Use the below-given list as an argument for your function.\n",
    "\n",
    "list1 = [1,2,3,4, [44,55,66, True], False, (34,56,78,89,34), {1,2,3,3,2,1}, {1:34, \"key2\": [55, 67, 78, 89], 4: (45,\n",
    "22, 61, 34)}, [56, 'data science'], 'Machine Learning']\n",
    "\n",
    "\n",
    "Note: you must extract numeric keys and values of the dictionary also."
   ]
  },
  {
   "cell_type": "code",
   "execution_count": 1,
   "id": "5b7dc548-01aa-400d-a7bc-627dd18c82d7",
   "metadata": {},
   "outputs": [],
   "source": [
    "list1=[1,2,3,4,[44,55,66,True], False, (34,56,78,89,34),{1,2,3,3,2,1}, {1:34,\"key2\":[55,67,78,89],4:(45,22,61,34)},[56,'data science'],'Machine Learning']"
   ]
  },
  {
   "cell_type": "code",
   "execution_count": 2,
   "id": "23a49560-f563-4d66-9653-870bad2206b2",
   "metadata": {
    "tags": []
   },
   "outputs": [
    {
     "name": "stdout",
     "output_type": "stream",
     "text": [
      "[1, 2, 3, 4, 44, 55, 66, 34, 56, 78, 89, 34, 1, 2, 3, 1, 34, 55, 67, 78, 89, 4, 45, 22, 61, 34, 56]\n"
     ]
    }
   ],
   "source": [
    "def flat_list(n):\n",
    "\n",
    "    l = []\n",
    "    \n",
    "    for i in list1:\n",
    "    \n",
    "        if type(i)==list or type(i)==tuple or type(i)==set: # check if element is list,tuple and set \n",
    "            for j in i: # iterate over each nested list \n",
    "                if type(j)==int: # check if element is int\n",
    "                    l.append(j)\n",
    "                    \n",
    "        elif type(i)==dict: # check if element is dict\n",
    "            \n",
    "            # iterate over each nested dict \n",
    "            for k in i.items():\n",
    "                if type(k[0])==int:\n",
    "                    l.append(k[0])\n",
    "           \n",
    "                if type(k[1])==tuple or type(k[1])==list:\n",
    "                    for v in k[1]:\n",
    "                        if type(v)==int:\n",
    "                            l.append(v)\n",
    "                else:\n",
    "                    if type(k[1])==int:\n",
    "                        l.append(k[1])\n",
    "        else:\n",
    "            if type(i)==int:\n",
    "                l.append(i)\n",
    "    return (l)\n",
    "\n",
    "print(flat_list(list1))"
   ]
  },
  {
   "cell_type": "code",
   "execution_count": null,
   "id": "a3fe96d0-4e95-467b-91c8-c2e848515ce4",
   "metadata": {},
   "outputs": [],
   "source": []
  },
  {
   "cell_type": "markdown",
   "id": "caa7a49f-cc29-4da9-8baf-40caabd130ef",
   "metadata": {},
   "source": [
    "Q2. Write a python program for encrypting a message sent to you by your friend. The logic of encryption\n",
    "should be such that, for a the output should be z. For b, the output should be y. For c, the output should\n",
    "be x respectively. Also, the whitespace should be replaced with a dollar sign. Keep the punctuation\n",
    "marks unchanged.\n",
    "\n",
    "Input Sentence: I want to become a Data Scientist.\n",
    "\n",
    "Encrypt the above input sentence using the program you just created.\n",
    "\n",
    "Note: Convert the given input sentence into lowercase before encrypting. The final output should be\n",
    "lowercase."
   ]
  },
  {
   "cell_type": "code",
   "execution_count": 3,
   "id": "2c3863ee-d5eb-49fb-8011-fe21575ccaf1",
   "metadata": {},
   "outputs": [
    {
     "name": "stdout",
     "output_type": "stream",
     "text": [
      "i$want$to$become$a$data$scientist\n"
     ]
    }
   ],
   "source": [
    "string=\"I want to become a Data Scientist\"\n",
    "def encrypt_msg(s):\n",
    "    \n",
    "    \n",
    "    encrypt_text={\"a\":\"z\", \"b\":\"y\", \"c\":\"x\", \" \":\"$\"}\n",
    "    \n",
    "    for i in encrypt_text:\n",
    "        #print(i,encrypt_text[i])\n",
    "        \n",
    "        string1=string.lower().replace(i,encrypt_text[i])\n",
    "        \n",
    "        \n",
    "    return string1\n",
    "\n",
    "print((encrypt_msg(string)))"
   ]
  },
  {
   "cell_type": "code",
   "execution_count": null,
   "id": "fdf082a2-0c78-48cc-bd89-cf1770410940",
   "metadata": {},
   "outputs": [],
   "source": []
  }
 ],
 "metadata": {
  "kernelspec": {
   "display_name": "Python 3 (ipykernel)",
   "language": "python",
   "name": "python3"
  },
  "language_info": {
   "codemirror_mode": {
    "name": "ipython",
    "version": 3
   },
   "file_extension": ".py",
   "mimetype": "text/x-python",
   "name": "python",
   "nbconvert_exporter": "python",
   "pygments_lexer": "ipython3",
   "version": "3.10.8"
  }
 },
 "nbformat": 4,
 "nbformat_minor": 5
}
