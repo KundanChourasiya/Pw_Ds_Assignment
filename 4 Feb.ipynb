{
 "cells": [
  {
   "cell_type": "markdown",
   "id": "11392e1d-c650-43a7-8cde-3cf3a28e7402",
   "metadata": {},
   "source": [
    "# 4 Feb assignment"
   ]
  },
  {
   "cell_type": "markdown",
   "id": "e18869d0-789e-46f6-8e78-14c5a14eb60a",
   "metadata": {},
   "source": [
    "1 create a python program to sort the given list of tuple based on integer value using a lambda function.\n",
    "\n",
    "[('Sachin Tendulkar', 34357), ('Ricky Ponting', 27483), ('Jack Kallis', 25534), ('Virat Kohli', 24936)]"
   ]
  },
  {
   "cell_type": "code",
   "execution_count": 18,
   "id": "5bf5f067-9cce-4620-a6b8-1b1e275d9f3e",
   "metadata": {},
   "outputs": [],
   "source": [
    "st=[('Sachin Tendulkar', 34357), ('Ricky Ponting', 27483), ('Jack Kallis', 25534), ('Virat Kohli', 24936)]"
   ]
  },
  {
   "cell_type": "code",
   "execution_count": 19,
   "id": "449c82a6-c868-498c-a511-4d03e9b58dfd",
   "metadata": {},
   "outputs": [],
   "source": [
    "st.sort(key=lambda x:x[1])"
   ]
  },
  {
   "cell_type": "code",
   "execution_count": 20,
   "id": "9b191df3-1ed6-4059-8375-b3327e25b459",
   "metadata": {},
   "outputs": [
    {
     "name": "stdout",
     "output_type": "stream",
     "text": [
      "[('Virat Kohli', 24936), ('Jack Kallis', 25534), ('Ricky Ponting', 27483), ('Sachin Tendulkar', 34357)]\n"
     ]
    }
   ],
   "source": [
    "print(st)"
   ]
  },
  {
   "cell_type": "code",
   "execution_count": null,
   "id": "780aa2ca-b81a-4cfa-8195-3747e6dcdc84",
   "metadata": {},
   "outputs": [],
   "source": []
  },
  {
   "cell_type": "markdown",
   "id": "077b2858-7ed5-4253-8556-827667838b61",
   "metadata": {},
   "source": [
    "2. Write a python program to find the squares of all the numbers in the given list of integers using lambda and map function.\n",
    "\n",
    "[1,2,3,4,5,6,7,8,9,10]"
   ]
  },
  {
   "cell_type": "code",
   "execution_count": 21,
   "id": "f0d087e2-4316-40e5-943a-41ab6108f646",
   "metadata": {},
   "outputs": [],
   "source": [
    "l=[1,2,3,4,5,6,7,8,9,10]"
   ]
  },
  {
   "cell_type": "code",
   "execution_count": 22,
   "id": "423ae7be-0c3e-4be6-9d3a-02b0660345d6",
   "metadata": {},
   "outputs": [
    {
     "name": "stdout",
     "output_type": "stream",
     "text": [
      "[1, 4, 9, 16, 25, 36, 49, 64, 81, 100]\n"
     ]
    }
   ],
   "source": [
    "print(list(map(lambda a:a**2, l)))"
   ]
  },
  {
   "cell_type": "code",
   "execution_count": null,
   "id": "32e29a13-6cf8-4cc2-9de6-b4f4a516afc9",
   "metadata": {},
   "outputs": [],
   "source": []
  },
  {
   "cell_type": "markdown",
   "id": "3c6ad54e-896f-4ad5-a638-43cbf19a8f66",
   "metadata": {},
   "source": [
    "3. Write a python program to convert the given list of integers into a tuple of string. use map and lambda function.\n",
    "\n",
    "string:[1,2,3,4,5,6,7,8,9,10]"
   ]
  },
  {
   "cell_type": "code",
   "execution_count": 23,
   "id": "f9fe250b-32b0-4730-b0c8-a287a1f3227a",
   "metadata": {},
   "outputs": [],
   "source": [
    "string=[1,2,3,4,5,6,7,8,9,10]"
   ]
  },
  {
   "cell_type": "code",
   "execution_count": 24,
   "id": "1eed397c-db75-459b-9856-a4bd6afcc98d",
   "metadata": {},
   "outputs": [
    {
     "name": "stdout",
     "output_type": "stream",
     "text": [
      "('1', '2', '3', '4', '5', '6', '7', '8', '9', '10')\n"
     ]
    }
   ],
   "source": [
    "print(tuple(map(lambda x:str(x), string)))"
   ]
  },
  {
   "cell_type": "code",
   "execution_count": null,
   "id": "0b5d400f-9274-4e2a-aa45-c3c86924b05d",
   "metadata": {},
   "outputs": [],
   "source": []
  },
  {
   "cell_type": "markdown",
   "id": "de04a3c1-d765-47a5-916e-6db52812e352",
   "metadata": {},
   "source": [
    "4. Write a python program using reduce funtion to compute the product of a list containing numbers form 1 to 25.\n"
   ]
  },
  {
   "cell_type": "code",
   "execution_count": 26,
   "id": "d0151248-376d-4e1e-804e-09975baf605c",
   "metadata": {},
   "outputs": [],
   "source": [
    "from functools import reduce"
   ]
  },
  {
   "cell_type": "code",
   "execution_count": 36,
   "id": "a7c8ae25-d7ad-47ba-af6d-9fe0d7b5c73c",
   "metadata": {},
   "outputs": [],
   "source": [
    "a= [i for i in range(1,26)]"
   ]
  },
  {
   "cell_type": "code",
   "execution_count": 38,
   "id": "19c9a65c-2e21-44d5-8d25-22a4084ab025",
   "metadata": {},
   "outputs": [
    {
     "name": "stdout",
     "output_type": "stream",
     "text": [
      "325\n"
     ]
    }
   ],
   "source": [
    "print(reduce(lambda x,y:x+y,a))"
   ]
  },
  {
   "cell_type": "code",
   "execution_count": null,
   "id": "25417c45-f277-451a-8087-47571bbdb31d",
   "metadata": {},
   "outputs": [],
   "source": []
  },
  {
   "cell_type": "markdown",
   "id": "d60fdbb5-2d03-4bef-b269-95f9a5c5329b",
   "metadata": {},
   "source": [
    "5. Write a python program to filter the numbers in a given list that are divisible by 2 and 3 using the filter function.\n",
    "\n",
    "[2,3,6,9,27,60,90,120,55,46]"
   ]
  },
  {
   "cell_type": "code",
   "execution_count": 39,
   "id": "54a2c0dd-2ec3-4f60-80a3-0050902c43ec",
   "metadata": {},
   "outputs": [],
   "source": [
    "l=[2,3,6,9,27,60,90,120,55,46]"
   ]
  },
  {
   "cell_type": "code",
   "execution_count": 42,
   "id": "9eb34e8a-9cc4-41eb-9f77-44013c826418",
   "metadata": {},
   "outputs": [
    {
     "data": {
      "text/plain": [
       "[2, 3, 6, 9, 27, 60, 90, 120, 46]"
      ]
     },
     "execution_count": 42,
     "metadata": {},
     "output_type": "execute_result"
    }
   ],
   "source": [
    "list(filter(lambda x:x%2==0 or x%3==0,l))"
   ]
  },
  {
   "cell_type": "code",
   "execution_count": null,
   "id": "5d112851-930f-4f75-979a-62618f99f122",
   "metadata": {},
   "outputs": [],
   "source": []
  },
  {
   "cell_type": "markdown",
   "id": "be4bb8dd-5641-4578-b443-d86626164b50",
   "metadata": {},
   "source": [
    "6. Write a python program to find palindromes in the given list of strings using lambda and filter function.\n",
    "\n",
    "['python','php','aba','radar','level']"
   ]
  },
  {
   "cell_type": "code",
   "execution_count": 43,
   "id": "d1a01ab2-0857-427b-8198-b0b4d24f3ecf",
   "metadata": {},
   "outputs": [],
   "source": [
    "a=['python','php','aba','radar','level']"
   ]
  },
  {
   "cell_type": "code",
   "execution_count": 61,
   "id": "7fa22138-b49a-4f58-b3f6-86cd92161ede",
   "metadata": {},
   "outputs": [
    {
     "data": {
      "text/plain": [
       "['php', 'aba', 'radar', 'level']"
      ]
     },
     "execution_count": 61,
     "metadata": {},
     "output_type": "execute_result"
    }
   ],
   "source": [
    "list(filter(lambda x: (x == \"\".join(reversed(x))), a))"
   ]
  },
  {
   "cell_type": "code",
   "execution_count": null,
   "id": "48a7c791-5498-4047-9eec-1fc43b4770a2",
   "metadata": {},
   "outputs": [],
   "source": []
  }
 ],
 "metadata": {
  "kernelspec": {
   "display_name": "Python 3 (ipykernel)",
   "language": "python",
   "name": "python3"
  },
  "language_info": {
   "codemirror_mode": {
    "name": "ipython",
    "version": 3
   },
   "file_extension": ".py",
   "mimetype": "text/x-python",
   "name": "python",
   "nbconvert_exporter": "python",
   "pygments_lexer": "ipython3",
   "version": "3.10.8"
  }
 },
 "nbformat": 4,
 "nbformat_minor": 5
}
