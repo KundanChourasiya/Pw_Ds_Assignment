{
 "cells": [
  {
   "cell_type": "markdown",
   "id": "d3a6559a-3b0a-49c7-8a57-347b5770c347",
   "metadata": {},
   "source": [
    "# 3 Feb Assignment"
   ]
  },
  {
   "cell_type": "markdown",
   "id": "40163576-c4b2-47f2-bbc3-67e4fc163142",
   "metadata": {},
   "source": [
    "1. Which keyword is used to create a funtion? create a funtion to return a list of odd numbers in the range of 1 to 25."
   ]
  },
  {
   "cell_type": "markdown",
   "id": "cd21d0f9-e69d-47ea-baa1-914c7189e688",
   "metadata": {},
   "source": [
    "Ans: - def() keyword is used to create a funtion in python. "
   ]
  },
  {
   "cell_type": "code",
   "execution_count": 1,
   "id": "b88fab86-dcec-4a08-bb60-166125262bdc",
   "metadata": {},
   "outputs": [
    {
     "data": {
      "text/plain": [
       "[1, 3, 5, 7, 9, 11, 13, 15, 17, 19, 21, 23, 25]"
      ]
     },
     "execution_count": 1,
     "metadata": {},
     "output_type": "execute_result"
    }
   ],
   "source": [
    "# create a funtion to return a list of odd numbers in the range of 1 to 25.\n",
    "def odd_num():\n",
    "    l=[]\n",
    "    for i in range(1,26):\n",
    "        if i%2!=0:\n",
    "            l.append(i)\n",
    "    return l\n",
    "\n",
    "odd_num()"
   ]
  },
  {
   "cell_type": "code",
   "execution_count": null,
   "id": "036b8861-e3ab-4bc2-bea0-7e32e8f28885",
   "metadata": {},
   "outputs": [],
   "source": []
  },
  {
   "cell_type": "markdown",
   "id": "d9abe514-a489-4627-bc63-561dba5ea3ba",
   "metadata": {},
   "source": [
    "2. Why *args and **kwargs is used in some funtions? create a funtion each for *args and **kwargs to demonstrate their use."
   ]
  },
  {
   "cell_type": "markdown",
   "id": "65e4a700-ec8e-4c06-a266-16a3e73ba741",
   "metadata": {},
   "source": [
    "Ans- *args is used to handle variable lenth non-keyword argument. \n",
    "**kwarge is used to handle variable lenth keyword argument.\n",
    "eg:-"
   ]
  },
  {
   "cell_type": "code",
   "execution_count": 2,
   "id": "2acf0bda-25c4-481a-a88e-162b61e4dc56",
   "metadata": {},
   "outputs": [
    {
     "name": "stdout",
     "output_type": "stream",
     "text": [
      "(1, 2, 3, 'sunny')\n"
     ]
    }
   ],
   "source": [
    "def abc(*args): # *args Example\n",
    "    print(args)\n",
    "abc(1,2,3,\"sunny\")"
   ]
  },
  {
   "cell_type": "code",
   "execution_count": 3,
   "id": "de729f3b-ccfb-4375-ae79-7f11f130920c",
   "metadata": {},
   "outputs": [
    {
     "name": "stdout",
     "output_type": "stream",
     "text": [
      "{'a': 10, 'b': 20, 'c': 30}\n"
     ]
    }
   ],
   "source": [
    "def abcd(**kwargs): # *kwargs Example\n",
    "    print(kwargs)\n",
    "abcd(a=10,b=20,c=30)"
   ]
  },
  {
   "cell_type": "code",
   "execution_count": null,
   "id": "3b376754-4e4f-41a4-bbec-d0537b69c654",
   "metadata": {},
   "outputs": [],
   "source": []
  },
  {
   "cell_type": "markdown",
   "id": "3d9c473a-f879-42c8-9582-f6860456c58c",
   "metadata": {},
   "source": [
    "3. What is an iterator in python? name the method used to initialise the iterator object and the method used for iteration. use these methods to print the first five elements of the given list [2,4,6,8,10,12,14,16,18,20]"
   ]
  },
  {
   "cell_type": "markdown",
   "id": "c6795928-aee1-443b-8317-494eda45e61c",
   "metadata": {},
   "source": [
    "Ans- it is an object which is used to iterator or re-execute the same block of statement n number of times. The number of iteration in for loop depends on the length of given object. it the object has 10 element then iterator will re-execute the same block of statement 10 times. \n",
    "always two other method will help on the iterator.\n",
    "\n",
    "next()- it helps to the iterator to take next element from the given object.\n",
    "\n",
    "iter()- it helps to the iterator to start next iteration after all statement of a block executed."
   ]
  },
  {
   "cell_type": "code",
   "execution_count": 4,
   "id": "5251c1d3-9790-4d33-a875-e84f21c0a186",
   "metadata": {},
   "outputs": [
    {
     "name": "stdout",
     "output_type": "stream",
     "text": [
      "p\n",
      "y\n",
      "t\n",
      "h\n",
      "o\n",
      "n\n"
     ]
    }
   ],
   "source": [
    "st=\"python\"\n",
    "for i in st:\n",
    "    print(i)\n"
   ]
  },
  {
   "cell_type": "code",
   "execution_count": 5,
   "id": "7f5fd22a-b0fc-4bf9-8af2-d14e797fb10e",
   "metadata": {},
   "outputs": [],
   "source": [
    "s1=iter(st)"
   ]
  },
  {
   "cell_type": "code",
   "execution_count": 6,
   "id": "af7620ec-d4bd-4523-8967-a5291769537b",
   "metadata": {},
   "outputs": [
    {
     "data": {
      "text/plain": [
       "'p'"
      ]
     },
     "execution_count": 6,
     "metadata": {},
     "output_type": "execute_result"
    }
   ],
   "source": [
    "next(s1)"
   ]
  },
  {
   "cell_type": "code",
   "execution_count": 7,
   "id": "f5923d7e-9981-49a2-87b5-2de237e69798",
   "metadata": {},
   "outputs": [
    {
     "data": {
      "text/plain": [
       "'y'"
      ]
     },
     "execution_count": 7,
     "metadata": {},
     "output_type": "execute_result"
    }
   ],
   "source": [
    "next(s1)"
   ]
  },
  {
   "cell_type": "code",
   "execution_count": 8,
   "id": "6df2d852-0c36-4b5a-837d-8998742366eb",
   "metadata": {},
   "outputs": [
    {
     "data": {
      "text/plain": [
       "'t'"
      ]
     },
     "execution_count": 8,
     "metadata": {},
     "output_type": "execute_result"
    }
   ],
   "source": [
    "next(s1)"
   ]
  },
  {
   "cell_type": "code",
   "execution_count": 9,
   "id": "403e858e-dc89-4879-b84e-91b03901fbaa",
   "metadata": {},
   "outputs": [],
   "source": [
    "list =[2,4,6,8,10,12,14,16,18,20] #print the first five elements\n",
    "l=iter(list)"
   ]
  },
  {
   "cell_type": "code",
   "execution_count": 10,
   "id": "a2e1d310-d8c4-42ba-be12-e97b21cd4ce5",
   "metadata": {},
   "outputs": [
    {
     "data": {
      "text/plain": [
       "2"
      ]
     },
     "execution_count": 10,
     "metadata": {},
     "output_type": "execute_result"
    }
   ],
   "source": [
    "next(l)"
   ]
  },
  {
   "cell_type": "code",
   "execution_count": 11,
   "id": "8e410efd-d0d2-45ef-a761-c061b6d4caaa",
   "metadata": {},
   "outputs": [
    {
     "data": {
      "text/plain": [
       "4"
      ]
     },
     "execution_count": 11,
     "metadata": {},
     "output_type": "execute_result"
    }
   ],
   "source": [
    "next(l)"
   ]
  },
  {
   "cell_type": "code",
   "execution_count": 12,
   "id": "4a1c6824-c83e-4b71-8eb5-a1b8f95ca8c5",
   "metadata": {},
   "outputs": [
    {
     "data": {
      "text/plain": [
       "6"
      ]
     },
     "execution_count": 12,
     "metadata": {},
     "output_type": "execute_result"
    }
   ],
   "source": [
    "next(l)"
   ]
  },
  {
   "cell_type": "code",
   "execution_count": 13,
   "id": "7ad2ee5b-04da-41c0-a4ee-c491cf974e6b",
   "metadata": {},
   "outputs": [
    {
     "data": {
      "text/plain": [
       "8"
      ]
     },
     "execution_count": 13,
     "metadata": {},
     "output_type": "execute_result"
    }
   ],
   "source": [
    "next(l)"
   ]
  },
  {
   "cell_type": "code",
   "execution_count": 14,
   "id": "b56ca1f1-f890-42e4-b296-1d8bfad64f7c",
   "metadata": {},
   "outputs": [
    {
     "data": {
      "text/plain": [
       "10"
      ]
     },
     "execution_count": 14,
     "metadata": {},
     "output_type": "execute_result"
    }
   ],
   "source": [
    "next(l)"
   ]
  },
  {
   "cell_type": "code",
   "execution_count": null,
   "id": "ae5567c5-1ea4-4ff4-b392-1db7172a0614",
   "metadata": {},
   "outputs": [],
   "source": []
  },
  {
   "cell_type": "markdown",
   "id": "5fb7c60a-4c6b-485b-80ad-6dea5b4dac48",
   "metadata": {},
   "source": [
    "4. What is a Generator function in python? why yield keyword is used? GIve an example of a generator funtion."
   ]
  },
  {
   "cell_type": "markdown",
   "id": "82473938-78c3-4fcc-b548-d042fbfbf095",
   "metadata": {},
   "source": [
    "Ans- It is a function which generate the element one by one.\n",
    "\n",
    "We used yield keyword to implement Generator.\n",
    "\n",
    "we used next() method to generate the element one by one. if all elements over then stop iteration.\n",
    "\n",
    "eg:-"
   ]
  },
  {
   "cell_type": "code",
   "execution_count": 15,
   "id": "af645f42-38f8-42dc-9201-5f972fca67c0",
   "metadata": {},
   "outputs": [],
   "source": [
    "def abc(n):\n",
    "    for i in range(1,20):\n",
    "        yield i"
   ]
  },
  {
   "cell_type": "code",
   "execution_count": 16,
   "id": "f0986e07-bf96-4152-a367-ba9f4e00e885",
   "metadata": {},
   "outputs": [],
   "source": [
    "a=abc(i)"
   ]
  },
  {
   "cell_type": "code",
   "execution_count": 17,
   "id": "d1432bd2-a94c-4885-a8ad-cd553372574b",
   "metadata": {},
   "outputs": [
    {
     "data": {
      "text/plain": [
       "1"
      ]
     },
     "execution_count": 17,
     "metadata": {},
     "output_type": "execute_result"
    }
   ],
   "source": [
    "next(a)"
   ]
  },
  {
   "cell_type": "code",
   "execution_count": 18,
   "id": "6fe2c471-4408-49fc-b0fd-beab5e54b6a6",
   "metadata": {},
   "outputs": [
    {
     "data": {
      "text/plain": [
       "2"
      ]
     },
     "execution_count": 18,
     "metadata": {},
     "output_type": "execute_result"
    }
   ],
   "source": [
    "next(a)"
   ]
  },
  {
   "cell_type": "code",
   "execution_count": null,
   "id": "5b1deaec-d2da-4ac6-ace5-01fbe950e924",
   "metadata": {},
   "outputs": [],
   "source": []
  },
  {
   "cell_type": "markdown",
   "id": "0279bf16-831a-4430-bf6a-bf1824467bd1",
   "metadata": {},
   "source": [
    "5. Create a generator function for prime numbers less than 1000. Use the next() method to print the first 20 prime numbers."
   ]
  },
  {
   "cell_type": "code",
   "execution_count": null,
   "id": "bc2acfbc-efa2-4407-b21c-449635c2f255",
   "metadata": {},
   "outputs": [],
   "source": []
  },
  {
   "cell_type": "code",
   "execution_count": 19,
   "id": "bbefbd73-7647-41e2-a080-bea2a91228d5",
   "metadata": {},
   "outputs": [],
   "source": [
    "def prime_number(n):\n",
    "    for i in range(2,1001): \n",
    "        for j in range(2,1001):\n",
    "            if i%j == 0:\n",
    "                break\n",
    "        if i == j:\n",
    "            yield i"
   ]
  },
  {
   "cell_type": "code",
   "execution_count": 20,
   "id": "dd193995-d222-406c-9f5a-3b98d478d67b",
   "metadata": {},
   "outputs": [],
   "source": [
    "p=prime_number(i)"
   ]
  },
  {
   "cell_type": "code",
   "execution_count": 21,
   "id": "751e1780-f223-4b4d-853d-3a3deb7c1654",
   "metadata": {},
   "outputs": [
    {
     "data": {
      "text/plain": [
       "2"
      ]
     },
     "execution_count": 21,
     "metadata": {},
     "output_type": "execute_result"
    }
   ],
   "source": [
    "next(p) #1 step"
   ]
  },
  {
   "cell_type": "code",
   "execution_count": 22,
   "id": "df74c0e3-6c72-4b15-943e-f9f20a3575af",
   "metadata": {},
   "outputs": [
    {
     "data": {
      "text/plain": [
       "3"
      ]
     },
     "execution_count": 22,
     "metadata": {},
     "output_type": "execute_result"
    }
   ],
   "source": [
    "next(p) #2 step"
   ]
  },
  {
   "cell_type": "code",
   "execution_count": 23,
   "id": "247f099b-47b5-4ea4-9006-cdd4c94e3148",
   "metadata": {},
   "outputs": [
    {
     "data": {
      "text/plain": [
       "5"
      ]
     },
     "execution_count": 23,
     "metadata": {},
     "output_type": "execute_result"
    }
   ],
   "source": [
    "next(p) #3 step"
   ]
  },
  {
   "cell_type": "code",
   "execution_count": 24,
   "id": "569c6689-0b0f-4dcf-84e0-584d2d7a73ab",
   "metadata": {},
   "outputs": [
    {
     "data": {
      "text/plain": [
       "7"
      ]
     },
     "execution_count": 24,
     "metadata": {},
     "output_type": "execute_result"
    }
   ],
   "source": [
    "next(p) #4 step"
   ]
  },
  {
   "cell_type": "code",
   "execution_count": 25,
   "id": "a77c3f4d-c97a-4011-bfe3-3967ed248dfa",
   "metadata": {},
   "outputs": [
    {
     "data": {
      "text/plain": [
       "11"
      ]
     },
     "execution_count": 25,
     "metadata": {},
     "output_type": "execute_result"
    }
   ],
   "source": [
    "next(p) #5 step"
   ]
  },
  {
   "cell_type": "code",
   "execution_count": 26,
   "id": "106fcc24-d608-4205-9bc2-b21be067b57b",
   "metadata": {},
   "outputs": [
    {
     "data": {
      "text/plain": [
       "13"
      ]
     },
     "execution_count": 26,
     "metadata": {},
     "output_type": "execute_result"
    }
   ],
   "source": [
    "next(p) #6 step"
   ]
  },
  {
   "cell_type": "code",
   "execution_count": 27,
   "id": "bf0d12d0-2dd1-4b27-8077-04e638a54367",
   "metadata": {},
   "outputs": [
    {
     "data": {
      "text/plain": [
       "17"
      ]
     },
     "execution_count": 27,
     "metadata": {},
     "output_type": "execute_result"
    }
   ],
   "source": [
    "next(p) #7 step"
   ]
  },
  {
   "cell_type": "code",
   "execution_count": 28,
   "id": "c46d6173-b877-46ef-87eb-248f0c9abf55",
   "metadata": {},
   "outputs": [
    {
     "data": {
      "text/plain": [
       "19"
      ]
     },
     "execution_count": 28,
     "metadata": {},
     "output_type": "execute_result"
    }
   ],
   "source": [
    "next(p) #8 step"
   ]
  },
  {
   "cell_type": "code",
   "execution_count": 29,
   "id": "2db2378e-a3d3-4b69-8653-9ae331a64eca",
   "metadata": {},
   "outputs": [
    {
     "data": {
      "text/plain": [
       "23"
      ]
     },
     "execution_count": 29,
     "metadata": {},
     "output_type": "execute_result"
    }
   ],
   "source": [
    "next(p) #9 step"
   ]
  },
  {
   "cell_type": "code",
   "execution_count": 30,
   "id": "167a6e2e-5f0f-4d5c-ac28-6ddeb3330226",
   "metadata": {},
   "outputs": [
    {
     "data": {
      "text/plain": [
       "29"
      ]
     },
     "execution_count": 30,
     "metadata": {},
     "output_type": "execute_result"
    }
   ],
   "source": [
    "next(p) #10 step"
   ]
  },
  {
   "cell_type": "code",
   "execution_count": 31,
   "id": "76ed9083-2762-4a6c-9283-672fe0fb8825",
   "metadata": {},
   "outputs": [
    {
     "data": {
      "text/plain": [
       "31"
      ]
     },
     "execution_count": 31,
     "metadata": {},
     "output_type": "execute_result"
    }
   ],
   "source": [
    "next(p) #11 step"
   ]
  },
  {
   "cell_type": "code",
   "execution_count": 32,
   "id": "aaaf4e71-cfa2-4543-b045-8273db6ce353",
   "metadata": {},
   "outputs": [
    {
     "data": {
      "text/plain": [
       "37"
      ]
     },
     "execution_count": 32,
     "metadata": {},
     "output_type": "execute_result"
    }
   ],
   "source": [
    "next(p) #12 step"
   ]
  },
  {
   "cell_type": "code",
   "execution_count": 33,
   "id": "fb168992-a72b-46ad-b8a4-b489e55eb51c",
   "metadata": {},
   "outputs": [
    {
     "data": {
      "text/plain": [
       "41"
      ]
     },
     "execution_count": 33,
     "metadata": {},
     "output_type": "execute_result"
    }
   ],
   "source": [
    "next(p) #13 step"
   ]
  },
  {
   "cell_type": "code",
   "execution_count": 34,
   "id": "3e6d239a-04e1-482c-94eb-ee8e88b03f82",
   "metadata": {},
   "outputs": [
    {
     "data": {
      "text/plain": [
       "43"
      ]
     },
     "execution_count": 34,
     "metadata": {},
     "output_type": "execute_result"
    }
   ],
   "source": [
    "next(p) #14 step"
   ]
  },
  {
   "cell_type": "code",
   "execution_count": 35,
   "id": "843bd844-eda9-438b-9283-911cb8d36ba9",
   "metadata": {},
   "outputs": [
    {
     "data": {
      "text/plain": [
       "47"
      ]
     },
     "execution_count": 35,
     "metadata": {},
     "output_type": "execute_result"
    }
   ],
   "source": [
    "next(p) #15 step"
   ]
  },
  {
   "cell_type": "code",
   "execution_count": 36,
   "id": "a85d5dd7-393d-4a84-a702-2b9bce793d99",
   "metadata": {},
   "outputs": [
    {
     "data": {
      "text/plain": [
       "53"
      ]
     },
     "execution_count": 36,
     "metadata": {},
     "output_type": "execute_result"
    }
   ],
   "source": [
    "next(p) #16 step"
   ]
  },
  {
   "cell_type": "code",
   "execution_count": 37,
   "id": "718f98cc-1317-4713-8a21-37f16e70081a",
   "metadata": {},
   "outputs": [
    {
     "data": {
      "text/plain": [
       "59"
      ]
     },
     "execution_count": 37,
     "metadata": {},
     "output_type": "execute_result"
    }
   ],
   "source": [
    "next(p) #17 step"
   ]
  },
  {
   "cell_type": "code",
   "execution_count": 38,
   "id": "1b5ec94f-0f56-48d2-a112-440e086f71e8",
   "metadata": {},
   "outputs": [
    {
     "data": {
      "text/plain": [
       "61"
      ]
     },
     "execution_count": 38,
     "metadata": {},
     "output_type": "execute_result"
    }
   ],
   "source": [
    "next(p) #18 step"
   ]
  },
  {
   "cell_type": "code",
   "execution_count": 39,
   "id": "0a58fae8-b614-4276-b7bf-759f40076b8d",
   "metadata": {},
   "outputs": [
    {
     "data": {
      "text/plain": [
       "67"
      ]
     },
     "execution_count": 39,
     "metadata": {},
     "output_type": "execute_result"
    }
   ],
   "source": [
    "next(p) #19 step"
   ]
  },
  {
   "cell_type": "code",
   "execution_count": 40,
   "id": "6bb3ecc8-cb44-4ea9-adb4-ae07742e76d6",
   "metadata": {},
   "outputs": [
    {
     "data": {
      "text/plain": [
       "71"
      ]
     },
     "execution_count": 40,
     "metadata": {},
     "output_type": "execute_result"
    }
   ],
   "source": [
    "next(p) #20 step"
   ]
  },
  {
   "cell_type": "code",
   "execution_count": null,
   "id": "e5a19f06-67b3-4c79-a4ed-6a708e731ea0",
   "metadata": {},
   "outputs": [],
   "source": []
  },
  {
   "cell_type": "markdown",
   "id": "0d7b23b7-98a5-404a-af81-f12408b53a78",
   "metadata": {},
   "source": [
    "6. write a python program to print the first 10 fibonacci numbers using a while loop."
   ]
  },
  {
   "cell_type": "code",
   "execution_count": 41,
   "id": "89eadb1e-9593-4232-8469-dc3668f6980d",
   "metadata": {},
   "outputs": [
    {
     "name": "stdout",
     "output_type": "stream",
     "text": [
      "0\n",
      "1\n",
      "1\n",
      "2\n",
      "3\n",
      "5\n",
      "8\n",
      "13\n",
      "21\n",
      "34\n"
     ]
    }
   ],
   "source": [
    "number = 10\n",
    "\n",
    "a,b= 0,1\n",
    "counter =0\n",
    "while counter < number:\n",
    "    print(a)\n",
    "    c = a+b\n",
    "    a=b\n",
    "    b=c\n",
    "    counter = counter+1"
   ]
  },
  {
   "cell_type": "code",
   "execution_count": null,
   "id": "a0749d79-3179-4d1c-9bde-90ae3bcdbdb7",
   "metadata": {},
   "outputs": [],
   "source": []
  },
  {
   "cell_type": "markdown",
   "id": "fb7ec4e9-3f56-4272-8059-fd4eba673c26",
   "metadata": {},
   "source": [
    "7. Write a List Comprehension to iterate through the given string:\"pwskills\"."
   ]
  },
  {
   "cell_type": "code",
   "execution_count": 42,
   "id": "53e4eed4-eefd-414e-bbbf-9a36edf951a3",
   "metadata": {},
   "outputs": [],
   "source": [
    "string=\"pwskills\""
   ]
  },
  {
   "cell_type": "code",
   "execution_count": 43,
   "id": "17f606d5-b1db-4199-8556-3aa9a007f3aa",
   "metadata": {},
   "outputs": [
    {
     "data": {
      "text/plain": [
       "['p', 'w', 's', 'k', 'i', 'l', 'l', 's']"
      ]
     },
     "execution_count": 43,
     "metadata": {},
     "output_type": "execute_result"
    }
   ],
   "source": [
    "[ i for i in string]"
   ]
  },
  {
   "cell_type": "code",
   "execution_count": null,
   "id": "136d9d1a-aa02-4361-9fcd-87630be4108b",
   "metadata": {},
   "outputs": [],
   "source": []
  },
  {
   "cell_type": "markdown",
   "id": "aa79549b-9549-4a96-9d8d-56cb3fe4e787",
   "metadata": {},
   "source": [
    "8.  Write a python program to check whether a given number is palindrome or not using a while loop."
   ]
  },
  {
   "cell_type": "code",
   "execution_count": 44,
   "id": "29e83c72-78f0-4dd4-9616-822bd2a48763",
   "metadata": {},
   "outputs": [
    {
     "name": "stdin",
     "output_type": "stream",
     "text": [
      "Enter a number: 121\n"
     ]
    },
    {
     "name": "stdout",
     "output_type": "stream",
     "text": [
      "The number is palindrome\n"
     ]
    }
   ],
   "source": [
    "num=int(input(\"Enter a number:\"))\n",
    "temp=num\n",
    "rev=0\n",
    "while(num>0):\n",
    "    dig=num%10\n",
    "    rev=rev*10+dig\n",
    "    num=num//10\n",
    "if(temp==rev):\n",
    "    print(\"The number is palindrome\")\n",
    "else:\n",
    "    print(\"The number is Not a palindrome\")"
   ]
  },
  {
   "cell_type": "code",
   "execution_count": null,
   "id": "68707820-9528-487c-8303-51668d065c86",
   "metadata": {},
   "outputs": [],
   "source": []
  },
  {
   "cell_type": "markdown",
   "id": "8f3454ed-5e43-4788-b9f9-e1c4ca0f15eb",
   "metadata": {},
   "source": [
    "9. Write a code to print odd numbers from 1 to 100 using list comperhension."
   ]
  },
  {
   "cell_type": "code",
   "execution_count": 45,
   "id": "09c01b21-4410-451a-85a0-8864c4d7f611",
   "metadata": {},
   "outputs": [],
   "source": [
    "a=[i for i in range(1,101) if i%2!=0]"
   ]
  },
  {
   "cell_type": "code",
   "execution_count": 46,
   "id": "de653fa4-679f-4093-938e-3642bef48981",
   "metadata": {},
   "outputs": [
    {
     "name": "stdout",
     "output_type": "stream",
     "text": [
      "[1, 3, 5, 7, 9, 11, 13, 15, 17, 19, 21, 23, 25, 27, 29, 31, 33, 35, 37, 39, 41, 43, 45, 47, 49, 51, 53, 55, 57, 59, 61, 63, 65, 67, 69, 71, 73, 75, 77, 79, 81, 83, 85, 87, 89, 91, 93, 95, 97, 99]\n"
     ]
    }
   ],
   "source": [
    "print(a) # filter out odd number"
   ]
  },
  {
   "cell_type": "code",
   "execution_count": null,
   "id": "972e778b-1679-4090-b551-5d2de3d2b33c",
   "metadata": {},
   "outputs": [],
   "source": []
  }
 ],
 "metadata": {
  "kernelspec": {
   "display_name": "Python 3 (ipykernel)",
   "language": "python",
   "name": "python3"
  },
  "language_info": {
   "codemirror_mode": {
    "name": "ipython",
    "version": 3
   },
   "file_extension": ".py",
   "mimetype": "text/x-python",
   "name": "python",
   "nbconvert_exporter": "python",
   "pygments_lexer": "ipython3",
   "version": "3.10.8"
  }
 },
 "nbformat": 4,
 "nbformat_minor": 5
}
