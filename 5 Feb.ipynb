{
 "cells": [
  {
   "cell_type": "markdown",
   "id": "0cbe6f74-c9cf-4dce-b420-0218b6e229bb",
   "metadata": {},
   "source": [
    "# 5 Feb Assignment"
   ]
  },
  {
   "cell_type": "markdown",
   "id": "338cfdb6-da48-4abc-9b37-286ed508285e",
   "metadata": {},
   "source": [
    "1 Explain Class and Object with respect to Object - Oriented Programming. Give a suitable Example."
   ]
  },
  {
   "cell_type": "markdown",
   "id": "ee2a61bd-db54-4824-9cbe-0d0a6b4d8207",
   "metadata": {},
   "source": [
    "Ans- \n",
    "\n",
    "Classes are user-defined data types that act as the blueprint for individual objects, attributes and methods.\n",
    "\n",
    "Objects are instances of a class created with specifically defined data. Objects can correspond to real-world objects or an abstract entity. When class is defined initially, the description is the only object that is defined.\n",
    "\n",
    "Object is an instance of a class. Class is a blueprint or template from which objects are created. Object is a real world entity such as pen, laptop, mobile, bed, keyboard, mouse, chair etc. Class is a group of similar objects."
   ]
  },
  {
   "cell_type": "code",
   "execution_count": null,
   "id": "d2dc4746-bb10-4dbf-970d-084df7f6d42a",
   "metadata": {},
   "outputs": [],
   "source": []
  },
  {
   "cell_type": "markdown",
   "id": "2433122f-3efd-4fe8-90cd-062a5a911871",
   "metadata": {},
   "source": [
    "2. Name the four pillars of OOPs."
   ]
  },
  {
   "cell_type": "markdown",
   "id": "defedcc3-fc1e-4233-aad4-61a83ff7b8ef",
   "metadata": {},
   "source": [
    "Ans-\n",
    "\n",
    "1. Abstraction.\n",
    "2. Encapsulation.\n",
    "3. Inheritance.\n",
    "4. Polymorphism."
   ]
  },
  {
   "cell_type": "code",
   "execution_count": null,
   "id": "e758041b-65af-4307-a07c-87c37b4b265f",
   "metadata": {},
   "outputs": [],
   "source": []
  },
  {
   "cell_type": "markdown",
   "id": "2f555278-7dc1-4c71-95f1-ea1ef21742a2",
   "metadata": {},
   "source": [
    "3. Explain why the _ _init_ _() funtion is used . Give a suitable example."
   ]
  },
  {
   "cell_type": "markdown",
   "id": "3a077404-67a7-4cf9-9212-80bd1994c978",
   "metadata": {},
   "source": [
    "Ans- \n",
    "\n",
    "In python language, _ _init_ _ is called constructor. it stands for initilization and mainly. it is used to create or initilize the object variable. we don't call constructor manually. it automatically executes whenever object creating. per one object, constructor execute only once.\n",
    "\n",
    "eg-"
   ]
  },
  {
   "cell_type": "code",
   "execution_count": 2,
   "id": "9c24094a-336e-4621-b665-4e831a11f229",
   "metadata": {},
   "outputs": [],
   "source": [
    "class pwskills():\n",
    "    def __init__(self):\n",
    "        print(\"constuctor is calling....\")\n",
    "        \n",
    "    def display(self):\n",
    "        print(\"Method is calling....\")"
   ]
  },
  {
   "cell_type": "code",
   "execution_count": 3,
   "id": "d330b247-b263-4541-865e-d289118e4014",
   "metadata": {},
   "outputs": [
    {
     "name": "stdout",
     "output_type": "stream",
     "text": [
      "constuctor is calling....\n"
     ]
    }
   ],
   "source": [
    "a=pwskills()"
   ]
  },
  {
   "cell_type": "code",
   "execution_count": 5,
   "id": "e101d3d2-f025-4510-9cb1-de6c0e1612b3",
   "metadata": {},
   "outputs": [
    {
     "name": "stdout",
     "output_type": "stream",
     "text": [
      "Method is calling....\n"
     ]
    }
   ],
   "source": [
    "a.display()"
   ]
  },
  {
   "cell_type": "code",
   "execution_count": 6,
   "id": "515e591e-cb6e-452c-b5ce-b4977d6fc5b9",
   "metadata": {},
   "outputs": [
    {
     "name": "stdout",
     "output_type": "stream",
     "text": [
      "constuctor is calling....\n"
     ]
    }
   ],
   "source": [
    "b=pwskills()"
   ]
  },
  {
   "cell_type": "code",
   "execution_count": 8,
   "id": "6b6df43c-475a-4c53-bead-b5105f8a1698",
   "metadata": {},
   "outputs": [
    {
     "name": "stdout",
     "output_type": "stream",
     "text": [
      "Method is calling....\n"
     ]
    }
   ],
   "source": [
    "b.display()"
   ]
  },
  {
   "cell_type": "code",
   "execution_count": null,
   "id": "76527611-5b99-4f00-8646-8b6352d5fcf1",
   "metadata": {},
   "outputs": [],
   "source": []
  },
  {
   "cell_type": "markdown",
   "id": "f1f81aff-f321-4968-baab-c3d1de7c845e",
   "metadata": {},
   "source": [
    "4. Why self is used in OOPs?"
   ]
  },
  {
   "cell_type": "markdown",
   "id": "ac44198f-27c6-41ab-b288-7c62bd181aff",
   "metadata": {},
   "source": [
    "Ans-\n",
    "\n",
    "The self variable is used to represent the instance of the class which is often used in object-oriented programming. It works as a reference to the object. Python uses the self parameter to refer to instance attributes and methods of the class."
   ]
  },
  {
   "cell_type": "code",
   "execution_count": null,
   "id": "acf6fc8a-04c1-4791-b85c-eab9b3fd2147",
   "metadata": {},
   "outputs": [],
   "source": []
  },
  {
   "cell_type": "markdown",
   "id": "a796fa8f-ef5e-433f-866b-c2f7dc57d6f7",
   "metadata": {},
   "source": [
    "5. What is inheritance? Give an example for each type of inheritance."
   ]
  },
  {
   "cell_type": "markdown",
   "id": "9a183194-1c20-4bc0-aa8a-8052cdb04404",
   "metadata": {},
   "source": [
    "Ans- \n",
    "\n",
    "Inheritance - it is nothing but deriving the properties from class to another class.\n",
    "\n",
    "The class which is giving the properties is called super class or base class or parent class.\n",
    "\n",
    "The class which is taking the properties is called sub class or derive class or child class.\n",
    "\n",
    "Types of Inheritance:-\n",
    "\n",
    "1. Single level Inheritance \n",
    "2. Multi level Inheritance\n",
    "3. Multiple Inheritance\n",
    "4. Hierarchical Inheritance"
   ]
  },
  {
   "cell_type": "code",
   "execution_count": null,
   "id": "40124562-fa95-4f6c-b4a6-8851806801ed",
   "metadata": {},
   "outputs": [],
   "source": []
  }
 ],
 "metadata": {
  "kernelspec": {
   "display_name": "Python 3 (ipykernel)",
   "language": "python",
   "name": "python3"
  },
  "language_info": {
   "codemirror_mode": {
    "name": "ipython",
    "version": 3
   },
   "file_extension": ".py",
   "mimetype": "text/x-python",
   "name": "python",
   "nbconvert_exporter": "python",
   "pygments_lexer": "ipython3",
   "version": "3.10.8"
  }
 },
 "nbformat": 4,
 "nbformat_minor": 5
}
