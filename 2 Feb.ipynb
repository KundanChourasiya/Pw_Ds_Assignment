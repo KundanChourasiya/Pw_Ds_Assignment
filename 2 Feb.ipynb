{
 "cells": [
  {
   "cell_type": "markdown",
   "id": "5239be17-411e-45f3-89a9-f18c62b92a59",
   "metadata": {},
   "source": [
    "# 2 Feb Assignment"
   ]
  },
  {
   "cell_type": "markdown",
   "id": "7456baf4-1a0e-4a34-b552-c08ccf3d478a",
   "metadata": {},
   "source": [
    "1. Explain with an example each when to use a for loop and while loop."
   ]
  },
  {
   "cell_type": "markdown",
   "id": "0ad7c030-89f8-4fb4-8814-46484404b168",
   "metadata": {},
   "source": [
    "Ans:- \n",
    "\n",
    "For loop: It is used to re-execute the same block of statement n number of times that is depending on the number of elements in the given object.\n",
    "\n",
    "While loop: It is used to re-execute the same block of statement n number of times that is depending on condition."
   ]
  },
  {
   "cell_type": "code",
   "execution_count": 1,
   "id": "5351f8d1-917a-496c-ba8e-4a163aeec43f",
   "metadata": {},
   "outputs": [
    {
     "name": "stdout",
     "output_type": "stream",
     "text": [
      "1\n",
      "2\n",
      "3\n",
      "4\n",
      "5\n"
     ]
    }
   ],
   "source": [
    "#for loop example\n",
    "lst=[1,2,3,4,5] \n",
    "for i in lst:\n",
    "    print(i)"
   ]
  },
  {
   "cell_type": "code",
   "execution_count": 2,
   "id": "87e45331-e679-4b21-9cde-b7d1baaf6e2d",
   "metadata": {},
   "outputs": [
    {
     "name": "stdout",
     "output_type": "stream",
     "text": [
      "1\n",
      "2\n",
      "3\n",
      "4\n",
      "5\n"
     ]
    }
   ],
   "source": [
    "#while loop example\n",
    "\n",
    "i=1\n",
    "while i<=5:\n",
    "    print(i)\n",
    "    i=i+1"
   ]
  },
  {
   "cell_type": "code",
   "execution_count": null,
   "id": "803a71b3-a41a-4f48-92f5-7c0c193e12a3",
   "metadata": {},
   "outputs": [],
   "source": []
  },
  {
   "cell_type": "markdown",
   "id": "72b60148-3a2b-4d8e-b1cd-529d87621f12",
   "metadata": {},
   "source": [
    "2. write a python program to print the sum and product of the first 10 natural numbers using for and while loop."
   ]
  },
  {
   "cell_type": "code",
   "execution_count": 3,
   "id": "debe866f-d97c-4395-973e-ddd3b137bad7",
   "metadata": {},
   "outputs": [
    {
     "name": "stdout",
     "output_type": "stream",
     "text": [
      "The first 10 natural numbers of sum: 55\n"
     ]
    }
   ],
   "source": [
    "#For loop\n",
    "s=0\n",
    "for i in range(1,11):\n",
    "    s=s+i\n",
    "print(\"The first 10 natural numbers of sum:\", s)"
   ]
  },
  {
   "cell_type": "code",
   "execution_count": 4,
   "id": "a32305d1-29c4-469a-a18a-7adc43364ff1",
   "metadata": {},
   "outputs": [
    {
     "name": "stdout",
     "output_type": "stream",
     "text": [
      "The first 10 natural numbers of sum: 55\n"
     ]
    }
   ],
   "source": [
    "#while loop\n",
    "s=0\n",
    "i=1\n",
    "while i<=10:\n",
    "    s=s+i\n",
    "    i=i+1\n",
    "print(\"The first 10 natural numbers of sum:\", s)"
   ]
  },
  {
   "cell_type": "code",
   "execution_count": null,
   "id": "5abd3d41-90bd-40a8-9ac3-682bd38cdc9b",
   "metadata": {},
   "outputs": [],
   "source": []
  },
  {
   "cell_type": "markdown",
   "id": "01f46a3d-527d-4991-ac04-021c9e9390f6",
   "metadata": {},
   "source": [
    "3. Create a python program to compute the electricity bill for a household. the per-unit charges in rupees are as follows: for the first 100 units, the user will be charged Rs. 4.5 per unit, for next 100 units, the user will be charged Rs. 6 per unit, and for the next 100 unit, the user will be charged Rs. 10 per unit, after 300 units and above the user will be charged Rs. 20 per unit. you are required to take the units of electricity consumed in a month from the user as input. your program must pass this test case: when the unit of electricity consumed by the user in a month is 310, the total electricity bill should be 2250."
   ]
  },
  {
   "cell_type": "code",
   "execution_count": 5,
   "id": "5c4dd0b9-ad24-437a-805e-61b0242e552b",
   "metadata": {},
   "outputs": [
    {
     "name": "stdin",
     "output_type": "stream",
     "text": [
      "Enter your unit of electricity consumed: 210\n"
     ]
    },
    {
     "name": "stdout",
     "output_type": "stream",
     "text": [
      "Total cost of month: 2100 Rs.\n"
     ]
    }
   ],
   "source": [
    "n=int(input(\"Enter your unit of electricity consumed:\"))\n",
    "\n",
    "if n>=1 and n<=100:\n",
    "    cost=n*4.5\n",
    "    print(\"Total cost of month:\",cost,\"Rs.\")\n",
    "    \n",
    "elif n>100 and n<=200:\n",
    "    cost=n*6\n",
    "    print(\"Total cost of month:\",cost,\"Rs.\")\n",
    "    \n",
    "elif n>200 and n<=300:\n",
    "    cost=n*10\n",
    "    print(\"Total cost of month:\",cost,\"Rs.\")\n",
    "    \n",
    "elif n>300:\n",
    "    cost=n*20\n",
    "    print(\"Total cost of month:\",cost,\"Rs.\")"
   ]
  },
  {
   "cell_type": "code",
   "execution_count": null,
   "id": "885d898c-0817-4443-8d04-8ed5af612694",
   "metadata": {},
   "outputs": [],
   "source": []
  },
  {
   "cell_type": "markdown",
   "id": "a9c60639-67bd-4bcd-b7a7-b6e20e26887a",
   "metadata": {},
   "source": [
    "4. Create a list of numbers from 1 to 100. use for loop and while loop to calaculate the cube of each number and if the cube of that number is divisible by 4 or 5 then append that number in a list and print that list."
   ]
  },
  {
   "cell_type": "code",
   "execution_count": 6,
   "id": "b9035d0f-e9b7-4055-b546-27a492e3b4d8",
   "metadata": {},
   "outputs": [
    {
     "name": "stdout",
     "output_type": "stream",
     "text": [
      "[8, 64, 125, 216, 512, 1000, 1728, 2744, 3375, 4096, 5832, 8000, 10648, 13824, 15625, 17576, 21952, 27000, 32768, 39304, 42875, 46656, 54872, 64000, 74088, 85184, 91125, 97336, 110592, 125000, 140608, 157464, 166375, 175616, 195112, 216000, 238328, 262144, 274625, 287496, 314432, 343000, 373248, 405224, 421875, 438976, 474552, 512000, 551368, 592704, 614125, 636056, 681472, 729000, 778688, 830584, 857375, 884736, 941192, 1000000]\n"
     ]
    }
   ],
   "source": [
    "# for loop\n",
    "l=[]\n",
    "for i in range(1,101):\n",
    "    i=i**3\n",
    "    if i%4==0 or i%5==0:\n",
    "        l.append(i)\n",
    "print(l)"
   ]
  },
  {
   "cell_type": "code",
   "execution_count": 7,
   "id": "03607548-2c02-4eb1-b9e5-21228e517d17",
   "metadata": {},
   "outputs": [
    {
     "name": "stdout",
     "output_type": "stream",
     "text": [
      "[8, 64, 125, 216, 512, 1000, 1728, 2744, 3375, 4096, 5832, 8000, 10648, 13824, 15625, 17576, 21952, 27000, 32768, 39304, 42875, 46656, 54872, 64000, 74088, 85184, 91125, 97336, 110592, 125000, 140608, 157464, 166375, 175616, 195112, 216000, 238328, 262144, 274625, 287496, 314432, 343000, 373248, 405224, 421875, 438976, 474552, 512000, 551368, 592704, 614125, 636056, 681472, 729000, 778688, 830584, 857375, 884736, 941192, 1000000]\n"
     ]
    }
   ],
   "source": [
    "# while loop\n",
    "l=[]\n",
    "i=1\n",
    "while i<=100:\n",
    "    s=i**3\n",
    "    if s%4==0 or s%5==0:\n",
    "        l.append(s)\n",
    "    i=i+1\n",
    "print(l)"
   ]
  },
  {
   "cell_type": "code",
   "execution_count": null,
   "id": "7317b775-7733-4d72-afeb-acd837fe0f25",
   "metadata": {},
   "outputs": [],
   "source": []
  },
  {
   "cell_type": "markdown",
   "id": "fd535885-96bd-4d88-a6e9-63f9a743209d",
   "metadata": {},
   "source": [
    "5. Write a program to filter count vowels in the below-given string. string = \"I want to become a data scientist\""
   ]
  },
  {
   "cell_type": "markdown",
   "id": "571956eb-59d4-4339-9b82-c89846850a36",
   "metadata": {},
   "source": [
    "Ans:"
   ]
  },
  {
   "cell_type": "code",
   "execution_count": 8,
   "id": "1e82d198-cb61-4d9e-839c-08f1cdfd3fc7",
   "metadata": {},
   "outputs": [
    {
     "name": "stdout",
     "output_type": "stream",
     "text": [
      "i\n",
      "a\n",
      "o\n",
      "e\n",
      "o\n",
      "e\n",
      "a\n",
      "a\n",
      "a\n",
      "i\n",
      "e\n",
      "i\n",
      "Number of vowels in the given string is:  12\n"
     ]
    }
   ],
   "source": [
    "string = \"I want to become a data scientist\"\n",
    "st=string.lower()\n",
    "count =0\n",
    "vowels=[\"a\",\"e\",\"i\",\"o\",\"u\"]\n",
    "\n",
    "for i in range(len(st)):\n",
    "    if st[i] in vowels:\n",
    "        count=count+1\n",
    "        print(st[i])\n",
    "print(\"Number of vowels in the given string is: \", count)"
   ]
  },
  {
   "cell_type": "code",
   "execution_count": null,
   "id": "0e22d387-cf89-4c15-9aed-a1289ecaded8",
   "metadata": {},
   "outputs": [],
   "source": []
  }
 ],
 "metadata": {
  "kernelspec": {
   "display_name": "Python 3 (ipykernel)",
   "language": "python",
   "name": "python3"
  },
  "language_info": {
   "codemirror_mode": {
    "name": "ipython",
    "version": 3
   },
   "file_extension": ".py",
   "mimetype": "text/x-python",
   "name": "python",
   "nbconvert_exporter": "python",
   "pygments_lexer": "ipython3",
   "version": "3.10.8"
  }
 },
 "nbformat": 4,
 "nbformat_minor": 5
}
