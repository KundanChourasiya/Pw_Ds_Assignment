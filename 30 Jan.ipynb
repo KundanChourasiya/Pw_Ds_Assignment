{
 "cells": [
  {
   "cell_type": "markdown",
   "id": "a483452b-4ee9-4539-8603-3c20299b2c4a",
   "metadata": {},
   "source": [
    "# 30 Jan Assignment"
   ]
  },
  {
   "cell_type": "markdown",
   "id": "37ddc5ae-0fc5-4292-945f-90a3367c6e83",
   "metadata": {},
   "source": [
    "1. Write a program to accept percentage from the user and display the grade according to the following criteria:\n"
   ]
  },
  {
   "cell_type": "code",
   "execution_count": 1,
   "id": "f040f447-babf-407a-afa5-f8351947f9ce",
   "metadata": {},
   "outputs": [
    {
     "name": "stdin",
     "output_type": "stream",
     "text": [
      "Enter your marks: 66\n"
     ]
    },
    {
     "name": "stdout",
     "output_type": "stream",
     "text": [
      "You got Grade 'C'\n"
     ]
    }
   ],
   "source": [
    "marks = int(input(\"Enter your marks:\"))\n",
    "\n",
    "if marks>90:\n",
    "    print(\"You got Grade 'A'\")\n",
    "elif marks>80 and marks<=90:\n",
    "    print(\"You got Grade 'B'\")\n",
    "elif marks>=60 and marks<=80:\n",
    "    print(\"You got Grade 'C'\")\n",
    "else:\n",
    "    print(\"You got Grade 'D'\")"
   ]
  },
  {
   "cell_type": "code",
   "execution_count": null,
   "id": "d38882d5-d772-48be-be7c-4729d4f26cc1",
   "metadata": {},
   "outputs": [],
   "source": []
  },
  {
   "cell_type": "markdown",
   "id": "deaa17c3-035d-44b9-95ea-479aea5078eb",
   "metadata": {},
   "source": [
    "2. write a program to accept the cost price of a bike and display the road tax to be paid according to the following criteria:"
   ]
  },
  {
   "cell_type": "code",
   "execution_count": 2,
   "id": "1c3ce9cc-21c2-4c4f-abd5-b315be8bcadd",
   "metadata": {},
   "outputs": [
    {
     "name": "stdin",
     "output_type": "stream",
     "text": [
      "Enter your cost price of a bike: 700000\n"
     ]
    },
    {
     "name": "stdout",
     "output_type": "stream",
     "text": [
      "your Road Tax '15%'\n"
     ]
    }
   ],
   "source": [
    "cost= int(input(\"Enter your cost price of a bike:\"))\n",
    "\n",
    "if cost>100000:\n",
    "    print(\"your Road Tax '15%'\")\n",
    "elif cost>50000 and cost<=100000:\n",
    "    print(\"Your Road Tax is '10%'\")\n",
    "else:\n",
    "    print(\"Your Road Tax is '5%'\")"
   ]
  },
  {
   "cell_type": "code",
   "execution_count": null,
   "id": "129494bc-126a-4c76-8662-a913d18fbcac",
   "metadata": {},
   "outputs": [],
   "source": []
  },
  {
   "cell_type": "markdown",
   "id": "634eacd2-3904-4bb4-bc9b-b045f4d088d0",
   "metadata": {},
   "source": [
    "3. Accept any city from the user and dispplay monuments of that city:"
   ]
  },
  {
   "cell_type": "code",
   "execution_count": 7,
   "id": "d5d725f4-4329-493a-8199-09e2b56783cc",
   "metadata": {},
   "outputs": [
    {
     "name": "stdin",
     "output_type": "stream",
     "text": [
      "Enter city name: like: 'Delhi, Agra, Jaipur' agra\n"
     ]
    },
    {
     "name": "stdout",
     "output_type": "stream",
     "text": [
      "The monuments of that city 'Taj Mahal'\n"
     ]
    }
   ],
   "source": [
    "city =input(\"Enter city name: like: 'Delhi, Agra, Jaipur'\").lower()\n",
    "\n",
    "a=\"delhi\"\n",
    "b=\"agra\"\n",
    "c=\"jaipur\"\n",
    "\n",
    "if city==a:\n",
    "    print(\"The monuments of that city 'Red Fort'\")\n",
    "elif city==b:\n",
    "    print(\"The monuments of that city 'Taj Mahal'\")\n",
    "elif city==c:\n",
    "    print(\"The monuments of that city 'Jal Mahal'\")\n",
    "else:\n",
    "    print(\"please Enter correct name\")"
   ]
  },
  {
   "cell_type": "code",
   "execution_count": null,
   "id": "f9aef94f-d28f-4e5f-a156-f7015616f092",
   "metadata": {},
   "outputs": [],
   "source": []
  },
  {
   "cell_type": "markdown",
   "id": "6a01cfb5-008a-4593-a182-c2073fa26031",
   "metadata": {},
   "source": [
    "4. check how many times a given number can be divided by 3 before it is less than or equal to 10."
   ]
  },
  {
   "cell_type": "code",
   "execution_count": 4,
   "id": "21a2c42a-0f96-4b2f-a213-076e0465b1cc",
   "metadata": {},
   "outputs": [
    {
     "name": "stdout",
     "output_type": "stream",
     "text": [
      "0\n",
      "3\n",
      "6\n",
      "9\n"
     ]
    }
   ],
   "source": [
    "for i in range(10):\n",
    "    if i<=10:\n",
    "        if i%3==0:\n",
    "            print(i)"
   ]
  },
  {
   "cell_type": "code",
   "execution_count": null,
   "id": "75a144b3-6380-4b82-b585-260f3ebce70f",
   "metadata": {},
   "outputs": [],
   "source": []
  },
  {
   "cell_type": "markdown",
   "id": "e34a43d3-69a9-47da-9792-9e72bcba881f",
   "metadata": {},
   "source": [
    "5. Why and when to Use while loop in python give a detailed description with example.\n",
    "\n",
    "Ans: The while statement simply loops until a condition is False. while loop used to re-execute the same block of statement n number of time that is depending on condition. but for loop depending on the number of elements in the given object.\n",
    "\n",
    "example:\n",
    "\n",
    "i = 0\n",
    "\n",
    "while i <= 10::\n",
    "    print i\n",
    "    i = i + 1"
   ]
  },
  {
   "cell_type": "code",
   "execution_count": null,
   "id": "c1f85057-fe56-4008-a73e-608b8e878b31",
   "metadata": {},
   "outputs": [],
   "source": []
  },
  {
   "cell_type": "markdown",
   "id": "c98bca2f-32b6-4f3a-9f35-673eb12c495f",
   "metadata": {},
   "source": [
    "6. use nested while loop to print 3 different pattern."
   ]
  },
  {
   "cell_type": "code",
   "execution_count": 5,
   "id": "b057104a-2cb3-45c8-9a5a-0786d3c78b29",
   "metadata": {},
   "outputs": [
    {
     "name": "stdout",
     "output_type": "stream",
     "text": [
      "1\n",
      "12\n",
      "123\n",
      "1234\n",
      "12345\n"
     ]
    }
   ],
   "source": [
    "i=1\n",
    "while i<=5:\n",
    "    j=1\n",
    "    while j<=i:\n",
    "        print(j, end=\"\")\n",
    "        j=j+1\n",
    "    print()\n",
    "    i=i+1"
   ]
  },
  {
   "cell_type": "code",
   "execution_count": null,
   "id": "8d1a7891-1c2f-4ceb-8cf8-4c3dcc77d2cf",
   "metadata": {},
   "outputs": [],
   "source": []
  },
  {
   "cell_type": "markdown",
   "id": "d1c12183-d19c-4fb3-b71d-66d39474d137",
   "metadata": {},
   "source": [
    "7. Reverse a while loop to display numbers from 10 to 1."
   ]
  },
  {
   "cell_type": "code",
   "execution_count": 8,
   "id": "a767f149-76e9-4934-a1d7-087f9765ac84",
   "metadata": {},
   "outputs": [
    {
     "name": "stdout",
     "output_type": "stream",
     "text": [
      "10\n",
      "9\n",
      "8\n",
      "7\n",
      "6\n",
      "5\n",
      "4\n",
      "3\n",
      "2\n",
      "1\n"
     ]
    }
   ],
   "source": [
    "i=10\n",
    "while i>=1:\n",
    "    print(i)\n",
    "    i=i-1"
   ]
  },
  {
   "cell_type": "code",
   "execution_count": null,
   "id": "3b5a7e5b-3650-4dd4-8404-4cede478058b",
   "metadata": {},
   "outputs": [],
   "source": []
  },
  {
   "cell_type": "markdown",
   "id": "8bfa3294-3e4a-4dfd-856e-288e89eefd29",
   "metadata": {},
   "source": [
    "8. Reverse a while loop to display numbers from 10 to 1."
   ]
  },
  {
   "cell_type": "code",
   "execution_count": 9,
   "id": "b0133fc1-d224-4b11-84a3-3d05accf4b14",
   "metadata": {},
   "outputs": [
    {
     "name": "stdout",
     "output_type": "stream",
     "text": [
      "10\n",
      "9\n",
      "8\n",
      "7\n",
      "6\n",
      "5\n",
      "4\n",
      "3\n",
      "2\n",
      "1\n"
     ]
    }
   ],
   "source": [
    "i=10\n",
    "while i>=1:\n",
    "    print(i)\n",
    "    i=i-1"
   ]
  },
  {
   "cell_type": "code",
   "execution_count": null,
   "id": "a27fd4a7-a109-450f-b866-f01da3d5ad12",
   "metadata": {},
   "outputs": [],
   "source": []
  }
 ],
 "metadata": {
  "kernelspec": {
   "display_name": "Python 3 (ipykernel)",
   "language": "python",
   "name": "python3"
  },
  "language_info": {
   "codemirror_mode": {
    "name": "ipython",
    "version": 3
   },
   "file_extension": ".py",
   "mimetype": "text/x-python",
   "name": "python",
   "nbconvert_exporter": "python",
   "pygments_lexer": "ipython3",
   "version": "3.10.8"
  }
 },
 "nbformat": 4,
 "nbformat_minor": 5
}
