{
 "cells": [
  {
   "cell_type": "markdown",
   "id": "e70a5fb2-9511-4745-88ed-0570f0587894",
   "metadata": {},
   "source": [
    "# 7 Feb Assingnment"
   ]
  },
  {
   "cell_type": "markdown",
   "id": "c3efba4a-60d9-4cd9-848c-c766ecbb84d1",
   "metadata": {},
   "source": [
    "Q1. You are writing code for a company. The requirement of the company is that you create a python\n",
    "function that will check whether the password entered by the user is correct or not. The function should\n",
    "take the password as input and return the string “Valid Password” if the entered password follows the\n",
    "below-given password guidelines else it should return “Invalid Password”.\n",
    "\n",
    "Note:\n",
    "\n",
    "1. The Password should contain at least two uppercase letters and at least two lowercase letters.\n",
    "2. The Password should contain at least a number and three special characters.\n",
    "3. The length of the password should be 10 characters long."
   ]
  },
  {
   "cell_type": "code",
   "execution_count": 1,
   "id": "cb57bd00-d602-4232-9802-518f075561f9",
   "metadata": {},
   "outputs": [
    {
     "name": "stdin",
     "output_type": "stream",
     "text": [
      "Enter your password: Kundan@95\n"
     ]
    },
    {
     "name": "stdout",
     "output_type": "stream",
     "text": [
      "password should be 10 characters long\n",
      "No. of uppercase: 0\n",
      "No. of lowercase: 0\n",
      "No. of Digits: 0\n",
      "No. of special characters: 0\n"
     ]
    }
   ],
   "source": [
    "# we make counter  variable\n",
    "upper_p=0\n",
    "lower_p=0\n",
    "digits_p=0\n",
    "spl_p=0\n",
    "\n",
    "pwd=input(\"Enter your password:\")\n",
    "\n",
    "if len(pwd)>=10:   # Count password lenth\n",
    "   \n",
    "    for i in pwd:  # check one by one uppercase, lowercase, and digits\n",
    "        if i.isupper():\n",
    "            upper_p=upper_p+1\n",
    "        elif i.islower():\n",
    "            lower_p=lower_p+1\n",
    "        elif i.isdigit():\n",
    "            digits_p=digits_p+1\n",
    "        else:\n",
    "            spl_p=spl_p+1\n",
    "\n",
    "    # check the password condition and length \n",
    "    if upper_p>=2 and lower_p>=2 and digits_p>=1 and spl_p>=3:\n",
    "    \n",
    "        print(\"Your Password is valid\")\n",
    "    else:\n",
    "        print(\"Password should contain at least two uppercase letters and at least two lowercase letter and Password should contain at least a number and three special characters and length of the password should be 10 characters long.\")\n",
    "else:\n",
    "    print(\"password should be 10 characters long\")\n",
    "            \n",
    "print(\"No. of uppercase:\", upper_p)\n",
    "print(\"No. of lowercase:\", lower_p)\n",
    "print(\"No. of Digits:\", digits_p)\n",
    "print(\"No. of special characters:\", spl_p)"
   ]
  },
  {
   "cell_type": "code",
   "execution_count": 2,
   "id": "cb296043-5a61-4646-b347-ae1b82f77ba9",
   "metadata": {},
   "outputs": [
    {
     "name": "stdin",
     "output_type": "stream",
     "text": [
      "Enter your password: KKundan@#$9\n"
     ]
    },
    {
     "name": "stdout",
     "output_type": "stream",
     "text": [
      "Your Password is valid\n",
      "No. of uppercase: 2\n",
      "No. of lowercase: 5\n",
      "No. of Digits: 1\n",
      "No. of special characters: 3\n",
      "KKundan@#$9\n"
     ]
    }
   ],
   "source": [
    "# using def function\n",
    "\n",
    "def checkpwd(n):\n",
    "    \n",
    "    # we make counter  variable\n",
    "    upper_p=0\n",
    "    lower_p=0\n",
    "    digits_p=0\n",
    "    spl_p=0\n",
    "\n",
    "    pwd=input(\"Enter your password:\")\n",
    "\n",
    "    if len(pwd)>=10:   # Count password lenth\n",
    "        \n",
    "        for i in pwd:  # check one by one uppercase, lowercase, and digits\n",
    "            if i.isupper():\n",
    "                upper_p=upper_p+1\n",
    "            elif i.islower():\n",
    "                lower_p=lower_p+1\n",
    "            elif i.isdigit():\n",
    "                digits_p=digits_p+1\n",
    "            else:\n",
    "                spl_p=spl_p+1\n",
    "\n",
    "    # check the password condition and length \n",
    "        if upper_p>=2 and lower_p>=2 and digits_p>=1 and spl_p>=3:\n",
    "        \n",
    "            print(\"Your Password is valid\")\n",
    "        else:\n",
    "            print(\"Password should contain at least two uppercase letters and at least two lowercase letter and Password should contain at least a number and three special characters and length of the password should be 10 characters long.\")\n",
    "    else:\n",
    "        print(\"password should be 10 characters long\")\n",
    "            \n",
    "    print(\"No. of uppercase:\", upper_p)\n",
    "    print(\"No. of lowercase:\", lower_p)\n",
    "    print(\"No. of Digits:\", digits_p)\n",
    "    print(\"No. of special characters:\", spl_p)\n",
    "    \n",
    "    return(pwd)\n",
    "print(checkpwd(pwd))\n"
   ]
  },
  {
   "cell_type": "code",
   "execution_count": null,
   "id": "13d79a49-3cca-4612-a3ed-e987420d2314",
   "metadata": {},
   "outputs": [],
   "source": []
  },
  {
   "cell_type": "code",
   "execution_count": null,
   "id": "e876abf8-0f5c-42b8-8bbb-cf8280a58f7b",
   "metadata": {},
   "outputs": [],
   "source": []
  },
  {
   "cell_type": "markdown",
   "id": "0f21d0f8-eae9-47be-bdaf-0c345334ef63",
   "metadata": {},
   "source": [
    "Q2. Solve the below-given questions using at least one of the following:\n",
    "1. Lambda function\n",
    "2. Filter function\n",
    "3. Map function\n",
    "4. List Comprehension\n",
    "\n",
    "* Check if the string starts with a particular letter.\n",
    "* Check if the string is numeric.\n",
    "* Sort a list of tuples having fruit names and their quantity. [(\"mango\",99),(\"orange\",80), (\"grapes\", 1000)]\n",
    "* Find the squares of numbers from 1 to 10.\n",
    "* Find the cube root of numbers from 1 to 10.\n",
    "* Check if a given number is even.\n",
    "* Filter odd numbers from the given list.\n",
    "[1,2,3,4,5,6,7,8,9,10]\n",
    "\n",
    "* Sort a list of integers into positive and negative integers lists.\n",
    "[1,2,3,4,5,6,-1,-2,-3,-4,-5,0]"
   ]
  },
  {
   "cell_type": "code",
   "execution_count": null,
   "id": "8649a61c-134a-45f1-9500-79007c5e2f30",
   "metadata": {},
   "outputs": [],
   "source": []
  },
  {
   "cell_type": "markdown",
   "id": "ae463da6-3eb7-462e-ab92-b5a159799591",
   "metadata": {},
   "source": [
    "* Check if the string starts with a particular letter"
   ]
  },
  {
   "cell_type": "code",
   "execution_count": 3,
   "id": "49f3ea0f-9025-4383-8dc8-6a57bb9cb1a1",
   "metadata": {},
   "outputs": [],
   "source": [
    "s=\"kundan\""
   ]
  },
  {
   "cell_type": "code",
   "execution_count": 4,
   "id": "9968f84d-d06a-4941-a591-c8d1c9916cec",
   "metadata": {},
   "outputs": [
    {
     "data": {
      "text/plain": [
       "True"
      ]
     },
     "execution_count": 4,
     "metadata": {},
     "output_type": "execute_result"
    }
   ],
   "source": [
    "start_with= lambda x:True if x.startswith('k') else False\n",
    "\n",
    "start_with(s)"
   ]
  },
  {
   "cell_type": "code",
   "execution_count": null,
   "id": "b667d912-7f22-4a93-9f50-579ec4de48f6",
   "metadata": {},
   "outputs": [],
   "source": []
  },
  {
   "cell_type": "markdown",
   "id": "02ac57d0-a466-47fa-981e-8b74b9ea2402",
   "metadata": {},
   "source": [
    "* Check if the string is numeric"
   ]
  },
  {
   "cell_type": "code",
   "execution_count": 5,
   "id": "66489afb-b6cd-4d64-813b-9df6d5855148",
   "metadata": {},
   "outputs": [],
   "source": [
    "s2 = \"8787384\""
   ]
  },
  {
   "cell_type": "code",
   "execution_count": 6,
   "id": "c01d30dc-7afc-47f6-b322-a2ea3754b851",
   "metadata": {},
   "outputs": [
    {
     "data": {
      "text/plain": [
       "True"
      ]
     },
     "execution_count": 6,
     "metadata": {},
     "output_type": "execute_result"
    }
   ],
   "source": [
    "c_num= lambda x: True if x.isnumeric() else False\n",
    "c_num(s2)"
   ]
  },
  {
   "cell_type": "code",
   "execution_count": null,
   "id": "f81d63d1-e42e-45fb-add3-a830d252b4a1",
   "metadata": {},
   "outputs": [],
   "source": []
  },
  {
   "cell_type": "markdown",
   "id": "05480693-1e6d-4572-8703-5cb2ad31e9ff",
   "metadata": {},
   "source": [
    "* Sort a list of tuples having fruit names and their quantity. [(\"mango\",99),(\"orange\",80), (\"grapes\", 1000)]"
   ]
  },
  {
   "cell_type": "code",
   "execution_count": 7,
   "id": "c44d173b-1b3e-4dc0-baed-15ee3b877618",
   "metadata": {},
   "outputs": [],
   "source": [
    "string=[(\"mango\",99),(\"orange\",80), (\"grapes\", 1000)]"
   ]
  },
  {
   "cell_type": "code",
   "execution_count": 8,
   "id": "304b2d29-c42c-49f0-a64d-a7905804b71c",
   "metadata": {},
   "outputs": [
    {
     "name": "stdout",
     "output_type": "stream",
     "text": [
      "[('orange', 80), ('mango', 99), ('grapes', 1000)]\n"
     ]
    }
   ],
   "source": [
    "string.sort(key=lambda x:x[1])\n",
    "print(string)"
   ]
  },
  {
   "cell_type": "code",
   "execution_count": null,
   "id": "c2cdd141-cc62-430f-9f6a-5d59c69d9a71",
   "metadata": {},
   "outputs": [],
   "source": []
  },
  {
   "cell_type": "markdown",
   "id": "f7b43f22-e9ac-48ea-ba56-2ef83cb76597",
   "metadata": {},
   "source": [
    "* Find the squares of numbers from 1 to 10."
   ]
  },
  {
   "cell_type": "code",
   "execution_count": 9,
   "id": "e10b961a-eff8-4763-a7f4-d823746c7b3b",
   "metadata": {},
   "outputs": [
    {
     "name": "stdout",
     "output_type": "stream",
     "text": [
      "[1, 4, 9, 16, 25, 36, 49, 64, 81, 100]\n"
     ]
    }
   ],
   "source": [
    "a=[i**2 for i in range(1,11)]\n",
    "print(a)"
   ]
  },
  {
   "cell_type": "code",
   "execution_count": null,
   "id": "b59f8182-8e9d-4568-b3d1-2a866dd757ae",
   "metadata": {},
   "outputs": [],
   "source": []
  },
  {
   "cell_type": "markdown",
   "id": "729a0928-98c5-454c-9a01-2468268a9cfc",
   "metadata": {},
   "source": [
    "* Find the cube root of numbers from 1 to 10"
   ]
  },
  {
   "cell_type": "code",
   "execution_count": 10,
   "id": "63fac373-1277-42c9-a1b8-556e58d61429",
   "metadata": {},
   "outputs": [
    {
     "name": "stdout",
     "output_type": "stream",
     "text": [
      "[1, 8, 27, 64, 125, 216, 343, 512, 729, 1000]\n"
     ]
    }
   ],
   "source": [
    "b=[i**3 for i in range(1,11)]\n",
    "print(b)"
   ]
  },
  {
   "cell_type": "code",
   "execution_count": null,
   "id": "5e26d121-6522-4288-9c78-b473e65e0f8d",
   "metadata": {},
   "outputs": [],
   "source": []
  },
  {
   "cell_type": "markdown",
   "id": "d764ab42-cc8d-4e21-a9e6-a29975ba4702",
   "metadata": {},
   "source": [
    "* Check if a given number is even."
   ]
  },
  {
   "cell_type": "code",
   "execution_count": 16,
   "id": "820a64a0-2c87-4f46-a775-61a6fc36500a",
   "metadata": {},
   "outputs": [
    {
     "name": "stdin",
     "output_type": "stream",
     "text": [
      "Enter a number:  4\n"
     ]
    },
    {
     "name": "stdout",
     "output_type": "stream",
     "text": [
      "Even Number\n"
     ]
    }
   ],
   "source": [
    "number = int(input(\"Enter a number: \"))\n",
    "odd_even = lambda : \"Even Number\" if number % 2 == 0 else \"Odd Number\"\n",
    "\n",
    "print(odd_even()) "
   ]
  },
  {
   "cell_type": "code",
   "execution_count": null,
   "id": "a4d862b7-c1d4-4fed-841b-7c1894bea57f",
   "metadata": {},
   "outputs": [],
   "source": []
  },
  {
   "cell_type": "markdown",
   "id": "b44ed533-0b3d-4ee3-963a-5ebe3c35fc72",
   "metadata": {},
   "source": [
    "* Filter odd numbers from the given list.\n",
    "[1,2,3,4,5,6,7,8,9,10]"
   ]
  },
  {
   "cell_type": "code",
   "execution_count": 12,
   "id": "f382ff22-3f7d-4f52-bae0-44ad5ca638d3",
   "metadata": {},
   "outputs": [],
   "source": [
    "m=[1,2,3,4,5,6,7,8,9,10]"
   ]
  },
  {
   "cell_type": "code",
   "execution_count": 13,
   "id": "245d6c45-19b1-4778-aaaf-94f2c5a37d1b",
   "metadata": {},
   "outputs": [
    {
     "name": "stdout",
     "output_type": "stream",
     "text": [
      "[1, 3, 5, 7, 9]\n"
     ]
    }
   ],
   "source": [
    "l=list(filter(lambda x:x%2!=0,m))\n",
    "print(l)"
   ]
  },
  {
   "cell_type": "code",
   "execution_count": null,
   "id": "79ad65b2-5d2d-4bc8-9cc9-5d6a248aeab7",
   "metadata": {},
   "outputs": [],
   "source": []
  },
  {
   "cell_type": "markdown",
   "id": "034dc372-d19d-4b14-9595-d6665abff53f",
   "metadata": {},
   "source": [
    "* Sort a list of integers into positive and negative integers lists.\n",
    "[1,2,3,4,5,6,-1,-2,-3,-4,-5,0]"
   ]
  },
  {
   "cell_type": "code",
   "execution_count": 14,
   "id": "13b92fbe-80c3-4ce0-8e41-cf4e59412122",
   "metadata": {},
   "outputs": [
    {
     "name": "stdout",
     "output_type": "stream",
     "text": [
      "[1, 2, 3, 4, 5, 6, 0]\n",
      "[-1, -2, -3, -4, -5]\n"
     ]
    }
   ],
   "source": [
    "num=[1,2,3,4,5,6,-1,-2,-3,-4,-5,0]\n",
    "pos_num=[]\n",
    "neg_num=[]\n",
    "p=list(filter(lambda x: pos_num.append(x) if x>=0 else neg_num.append(x),num))\n",
    "print(pos_num)\n",
    "print(neg_num)"
   ]
  },
  {
   "cell_type": "code",
   "execution_count": null,
   "id": "026d6d13-3d33-4118-9b7d-642f2b2defe8",
   "metadata": {},
   "outputs": [],
   "source": []
  }
 ],
 "metadata": {
  "kernelspec": {
   "display_name": "Python 3 (ipykernel)",
   "language": "python",
   "name": "python3"
  },
  "language_info": {
   "codemirror_mode": {
    "name": "ipython",
    "version": 3
   },
   "file_extension": ".py",
   "mimetype": "text/x-python",
   "name": "python",
   "nbconvert_exporter": "python",
   "pygments_lexer": "ipython3",
   "version": "3.10.8"
  }
 },
 "nbformat": 4,
 "nbformat_minor": 5
}
