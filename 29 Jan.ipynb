{
 "cells": [
  {
   "cell_type": "markdown",
   "id": "19cdd5b3-88de-43f2-9d9f-0be49af67efb",
   "metadata": {},
   "source": [
    "# 29 jan Assignment"
   ]
  },
  {
   "cell_type": "markdown",
   "id": "916d85a1-f4c4-4f2f-8408-d85545b46682",
   "metadata": {},
   "source": [
    "1. Who developed python programming language?\n",
    "\n",
    "Ans - Guido van Rossum"
   ]
  },
  {
   "cell_type": "code",
   "execution_count": null,
   "id": "9a1300e3-4798-437c-a76a-65ac7cdd1c54",
   "metadata": {},
   "outputs": [],
   "source": []
  },
  {
   "cell_type": "markdown",
   "id": "497bfddf-2e34-4035-8ec8-316ad5a1fb5a",
   "metadata": {},
   "source": [
    "2. Which type of programming does python support?\n",
    "\n",
    "Ans - Python is an interpreted programming language, supporting object-oriented, structured, and functional programming."
   ]
  },
  {
   "cell_type": "code",
   "execution_count": null,
   "id": "029d25bf-f80d-43e1-a662-ce74ff9f43c0",
   "metadata": {},
   "outputs": [],
   "source": []
  },
  {
   "cell_type": "markdown",
   "id": "7ef33696-7ae1-4db6-bf87-735572251db4",
   "metadata": {},
   "source": [
    "3.Is python case sensitive when dealing with identifiers?\n",
    "\n",
    "Ans - yes, python is case sensitive , because Interpreter treats 'a' and 'A' are two different identifiers thats why \n",
    "thats why python is a case sensitive language.\n",
    "eg:-"
   ]
  },
  {
   "cell_type": "code",
   "execution_count": 6,
   "id": "8320230d-457c-4002-95ac-db44c4a5dc58",
   "metadata": {},
   "outputs": [
    {
     "ename": "NameError",
     "evalue": "name 'A' is not defined",
     "output_type": "error",
     "traceback": [
      "\u001b[0;31m---------------------------------------------------------------------------\u001b[0m",
      "\u001b[0;31mNameError\u001b[0m                                 Traceback (most recent call last)",
      "Cell \u001b[0;32mIn[6], line 2\u001b[0m\n\u001b[1;32m      1\u001b[0m a\u001b[38;5;241m=\u001b[39m\u001b[38;5;241m10\u001b[39m\n\u001b[0;32m----> 2\u001b[0m \u001b[38;5;28mprint\u001b[39m(\u001b[43mA\u001b[49m)\n",
      "\u001b[0;31mNameError\u001b[0m: name 'A' is not defined"
     ]
    }
   ],
   "source": [
    "a=10\n",
    "print(A)"
   ]
  },
  {
   "cell_type": "code",
   "execution_count": null,
   "id": "63a671e7-79d4-4155-897b-d14db1fe54e1",
   "metadata": {},
   "outputs": [],
   "source": []
  },
  {
   "cell_type": "markdown",
   "id": "6eab9414-2d24-483a-9425-a132fd1e1558",
   "metadata": {},
   "source": [
    "4. what is the correct extension of the python files?\n",
    "\n",
    "Ans - filename.py  (.py is the correct extension of the python file)"
   ]
  },
  {
   "cell_type": "code",
   "execution_count": null,
   "id": "e60fed5c-95f9-4d9a-a283-6766413872f8",
   "metadata": {},
   "outputs": [],
   "source": []
  },
  {
   "cell_type": "markdown",
   "id": "b081e2f6-3869-45d7-ab15-9762beba30e6",
   "metadata": {},
   "source": [
    "5. Is python code compiled or interpreted?\n",
    "\n",
    "Ans-  interpreted."
   ]
  },
  {
   "cell_type": "code",
   "execution_count": null,
   "id": "8512e939-6f81-4f0e-af6a-2ce20080b61f",
   "metadata": {},
   "outputs": [],
   "source": []
  },
  {
   "cell_type": "markdown",
   "id": "c4a530b5-7100-473a-97e9-6c792b9644be",
   "metadata": {},
   "source": [
    "6. Name a few blocks of code used to define in python language?\n",
    "\n",
    "Ans- function , class, module"
   ]
  },
  {
   "cell_type": "code",
   "execution_count": null,
   "id": "310acd53-a114-4cbd-b46a-08b80cf62674",
   "metadata": {},
   "outputs": [],
   "source": []
  },
  {
   "cell_type": "markdown",
   "id": "45059f5e-bb86-45d9-8af4-033eda7d05de",
   "metadata": {},
   "source": [
    "7. state a character used to give single-line comments in python?\n",
    "\n",
    "Ans - adding a single # character before any statement or line of code.\n",
    "        eg: - #this is my comments"
   ]
  },
  {
   "cell_type": "code",
   "execution_count": null,
   "id": "b052d0c6-8ae0-40bd-96f6-1a93d55b8879",
   "metadata": {},
   "outputs": [],
   "source": []
  },
  {
   "cell_type": "markdown",
   "id": "c1a68fce-6686-4387-9c35-12a04f47f556",
   "metadata": {},
   "source": [
    "8. Mention functions which can help us to find the version of python that we are currently working on?\n",
    "\n",
    "Ans-\n",
    "\n",
    "python -Version\n",
    "\n",
    "or \n",
    "\n",
    "python -V  #using for cmd\n",
    "\n",
    "import sys # for using sys module\n",
    "\n",
    "print(\"User Current Version:-\", sys.version) \n",
    "\n",
    "eg:-"
   ]
  },
  {
   "cell_type": "code",
   "execution_count": 1,
   "id": "0e97b207-a876-437d-8c88-908a8061a962",
   "metadata": {},
   "outputs": [
    {
     "name": "stdout",
     "output_type": "stream",
     "text": [
      "User Current Version:- 3.10.8 | packaged by conda-forge | (main, Nov 22 2022, 08:26:04) [GCC 10.4.0]\n"
     ]
    }
   ],
   "source": [
    "import sys #for using sys module\n",
    "print(\"User Current Version:-\", sys.version) "
   ]
  },
  {
   "cell_type": "code",
   "execution_count": null,
   "id": "903e53b1-7614-4d12-9004-18f476611261",
   "metadata": {},
   "outputs": [],
   "source": []
  },
  {
   "cell_type": "markdown",
   "id": "38c568f5-2756-45d6-85f6-b4f664ff9e9d",
   "metadata": {},
   "source": [
    "9. python supports the creation of anonymous functions at runtime, using a construct called__________\n",
    "\n",
    "Ans - lambda"
   ]
  },
  {
   "cell_type": "code",
   "execution_count": null,
   "id": "8875de14-fbf2-4008-b8a2-ad87f7e74689",
   "metadata": {},
   "outputs": [],
   "source": []
  },
  {
   "cell_type": "markdown",
   "id": "7f3dded8-1073-467e-a27a-196df2e091f5",
   "metadata": {},
   "source": [
    "10. What does pip stand for python?\n",
    "\n",
    "Ans - pip is standard tool for installing python packages."
   ]
  },
  {
   "cell_type": "code",
   "execution_count": null,
   "id": "22538455-954a-465c-9b7d-8fe7b8b54f34",
   "metadata": {},
   "outputs": [],
   "source": []
  },
  {
   "cell_type": "markdown",
   "id": "8dacf9a5-8d98-4231-b252-3cd5cc9ec4cc",
   "metadata": {},
   "source": [
    "11.mention a few built-in functions in python?\n",
    "\n",
    "Ans - print(), type(), id(), len(), list(), tuple(), set(), dict()... etc"
   ]
  },
  {
   "cell_type": "code",
   "execution_count": null,
   "id": "1c86707b-2bee-49c5-a835-5880f5b22ec8",
   "metadata": {},
   "outputs": [],
   "source": []
  },
  {
   "cell_type": "markdown",
   "id": "4bcf2cfa-2177-4a4a-9ec5-875991d382ac",
   "metadata": {},
   "source": [
    "12. What is the maximum possible length of an identifier in python?\n",
    "Ans - 79 character"
   ]
  },
  {
   "cell_type": "code",
   "execution_count": null,
   "id": "7296f8f3-5ead-43d0-9f71-002bbbd33600",
   "metadata": {},
   "outputs": [],
   "source": []
  },
  {
   "cell_type": "markdown",
   "id": "4cf16cb9-5005-41ff-b6c1-4135627f2dfa",
   "metadata": {},
   "source": [
    "13.what are the benefits of using python?\n",
    "\n",
    "Ans-\n",
    "1. simple, easy and powerful language.\n",
    "2. open and free source\n",
    "3. high-level language.\n",
    "4.portable language.\n",
    "5.supports opps concepts.\n",
    "6. Expressive language.\n",
    "7. Tons of packages.\n",
    "8. interpreter language.\n",
    "9. extendable language\n",
    "10. user friendly language\n"
   ]
  },
  {
   "cell_type": "raw",
   "id": "d5859397-1426-4dbc-91cd-3d8f8e5c7ddd",
   "metadata": {},
   "source": []
  },
  {
   "cell_type": "markdown",
   "id": "677f5374-b70b-4edc-9615-a2da7d98274c",
   "metadata": {},
   "source": [
    "14. how is memory managed in python?\n",
    "\n",
    "Ans - Python has a private heap that stores our program's objects and data structures."
   ]
  },
  {
   "cell_type": "code",
   "execution_count": null,
   "id": "50a911ea-16a2-440e-91ed-f4c9c65d0242",
   "metadata": {},
   "outputs": [],
   "source": []
  },
  {
   "cell_type": "markdown",
   "id": "e48ce8e2-c2ad-4899-9658-a13144594ea3",
   "metadata": {},
   "source": [
    "15. how to install python on windows and set path variables?\n",
    "\n",
    "Ans -\n",
    "1. Download python exe file\n",
    "2. then click exe file and next button . after finish the installtion we set the path variables.\n",
    "\n",
    "3. Right-clicking This PC and going to Properties.\n",
    "\n",
    "4. Clicking on the Advanced system settings in the menu on the left.\n",
    "\n",
    "5. Clicking on the Environment Variables button on the bottom right.\n",
    "\n",
    "6. In the System variables section, selecting the Path variable and clicking on Edit. The next screen will show all the    directories that are currently a part of the PATH variable.\n",
    "\n",
    "Clicking on New and entering Python’s install directory.\n",
    "\n",
    "C:\\Users\\abc\\AppData\\Local\\Programs\\Python\\Python39"
   ]
  },
  {
   "cell_type": "code",
   "execution_count": null,
   "id": "1c9dea71-2e7e-43cd-9d89-99c3b83d3d1b",
   "metadata": {},
   "outputs": [],
   "source": []
  },
  {
   "cell_type": "markdown",
   "id": "82d37c32-b6d7-4c9d-8027-c7971c33296b",
   "metadata": {},
   "source": [
    "16. Is indentation required in python?\n",
    "\n",
    "Ans - yes, for block of statement is required."
   ]
  },
  {
   "cell_type": "code",
   "execution_count": null,
   "id": "8c4ae040-2ed6-402f-832e-2d76362bc929",
   "metadata": {},
   "outputs": [],
   "source": []
  }
 ],
 "metadata": {
  "kernelspec": {
   "display_name": "Python 3 (ipykernel)",
   "language": "python",
   "name": "python3"
  },
  "language_info": {
   "codemirror_mode": {
    "name": "ipython",
    "version": 3
   },
   "file_extension": ".py",
   "mimetype": "text/x-python",
   "name": "python",
   "nbconvert_exporter": "python",
   "pygments_lexer": "ipython3",
   "version": "3.10.8"
  }
 },
 "nbformat": 4,
 "nbformat_minor": 5
}
